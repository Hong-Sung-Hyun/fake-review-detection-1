{
 "cells": [
  {
   "cell_type": "markdown",
   "metadata": {},
   "source": [
    "# Fake Spam Detector"
   ]
  },
  {
   "cell_type": "markdown",
   "metadata": {},
   "source": [
    "*By Siddharth Shankar Samal : sidhuking07@gmail.com*"
   ]
  },
  {
   "cell_type": "markdown",
   "metadata": {},
   "source": [
    "Basically I am importing the datasets and storing the datas in three columns : \n",
    "*Polarity of the review\n",
    "*Review itself\n",
    "*True or Deceptive as ('t' or 'd')\n",
    "\n",
    "Then I am converting 't' to 1 and 'd' to 0 because I will be using this as my target value and the review as my feature.\n",
    "Then I am splitting the Review data into testing data and training data (0.3 and 0.7 respectively).\n",
    "Then I am using CountVectorizer() to extract numeric features of each of the review as classifier can only use numeric data to compute something.\n",
    "Then I am using MultinomialNB method classifier to classify the reviews as Deceptive/True."
   ]
  },
  {
   "cell_type": "markdown",
   "metadata": {},
   "source": [
    "Dependencies I used :\n",
    "* os for loading os folder paths\n",
    "* pandas for making dataframes\n",
    "* numpy for making arrays\n",
    "* sklearn.metrics for accuracy score, precision score, recall score, f1 score\n",
    "* sklearn.cross_validation for splitting the dataset\n",
    "* CountVectorizer() for extracting features from text in numerical form\n",
    "* MultinomialNB for importing naive bayes multinomial method classifier"
   ]
  },
  {
   "cell_type": "markdown",
   "metadata": {},
   "source": [
    "**Importing all the dependencies that will be needed.**\n"
   ]
  },
  {
   "cell_type": "code",
   "execution_count": 1,
   "metadata": {
    "collapsed": true
   },
   "outputs": [],
   "source": [
    "import os\n",
    "import numpy as np\n",
    "import pandas as pd\n",
    "from sklearn import metrics\n",
    "from sklearn.metrics import precision_score\n",
    "from sklearn.metrics import recall_score\n",
    "from sklearn.metrics import f1_score\n",
    "from sklearn import cross_validation\n",
    "from sklearn.feature_extraction.text import CountVectorizer\n",
    "from sklearn.naive_bayes import MultinomialNB\n",
    "from sklearn.cross_validation import train_test_split"
   ]
  },
  {
   "cell_type": "markdown",
   "metadata": {},
   "source": [
    "**Setting up the folder paths in which the dataset is presetn**\n"
   ]
  },
  {
   "cell_type": "code",
   "execution_count": 2,
   "metadata": {
    "collapsed": true
   },
   "outputs": [],
   "source": [
    "neg_deceptive_folder_path = 'op_spam_v1.4\\\\negative_polarity\\\\deceptive_from_MTurk\\\\'\n",
    "neg_true_folder_path = 'op_spam_v1.4\\\\negative_polarity\\\\truthful_from_Web\\\\'\n",
    "pos_deceptive_folder_path = 'op_spam_v1.4\\\\positive_polarity\\\\deceptive_from_MTurk\\\\'\n",
    "pos_true_folder_path = 'op_spam_v1.4\\\\positive_polarity\\\\truthful_from_TripAdvisor\\\\'"
   ]
  },
  {
   "cell_type": "markdown",
   "metadata": {},
   "source": [
    "**Initialising the lists in which the polarity, review and either it's fake or true will be stored**"
   ]
  },
  {
   "cell_type": "code",
   "execution_count": 3,
   "metadata": {
    "collapsed": true
   },
   "outputs": [],
   "source": [
    "polarity_class = []\n",
    "reviews = []\n",
    "spamity_class =[]"
   ]
  },
  {
   "cell_type": "markdown",
   "metadata": {},
   "source": [
    "** Since we have 5 folders in each folder in our dataset, I am using a for loop to iterate through each of the folder and collect datas (i.e Polarity, Review, Fake or True) and store**"
   ]
  },
  {
   "cell_type": "code",
   "execution_count": 4,
   "metadata": {
    "collapsed": true
   },
   "outputs": [],
   "source": [
    "for i in range(1,6):\n",
    "    insideptru = pos_true_folder_path + 'fold' + str(i) \n",
    "    insidepdec = pos_deceptive_folder_path + 'fold' + str(i)\n",
    "    insidentru = neg_true_folder_path + 'fold' + str(i) \n",
    "    insidendec = neg_deceptive_folder_path + 'fold' + str(i) \n",
    "    pos_list = []\n",
    "    for data_file in sorted(os.listdir(insidendec)):\n",
    "        polarity_class.append('negtive')\n",
    "        spamity_class.append(str(data_file.split('_')[0]))\n",
    "        with open(os.path.join(insidendec, data_file)) as f:\n",
    "                contents = f.read()\n",
    "                reviews.append(contents)\n",
    "    for data_file in sorted(os.listdir(insidentru)):\n",
    "        polarity_class.append('negative')\n",
    "        spamity_class.append(str(data_file.split('_')[0]))\n",
    "        with open(os.path.join(insidentru, data_file)) as f:\n",
    "                contents = f.read()\n",
    "                reviews.append(contents)\n",
    "    for data_file in sorted(os.listdir(insidepdec)):\n",
    "        polarity_class.append('positive')\n",
    "        spamity_class.append(str(data_file.split('_')[0]))\n",
    "        with open(os.path.join(insidepdec, data_file)) as f:\n",
    "                contents = f.read()\n",
    "                reviews.append(contents)\n",
    "    for data_file in sorted(os.listdir(insideptru)):\n",
    "        polarity_class.append('positive')\n",
    "        spamity_class.append(str(data_file.split('_')[0]))\n",
    "        with open(os.path.join(insideptru, data_file)) as f:\n",
    "                contents = f.read()\n",
    "                reviews.append(contents)\n"
   ]
  },
  {
   "cell_type": "markdown",
   "metadata": {},
   "source": [
    "** Making the dataframe using pandas to store polarity, reviews and true or fake **"
   ]
  },
  {
   "cell_type": "markdown",
   "metadata": {},
   "source": [
    "*Setting '0' for deceptive review and '1' for true review*"
   ]
  },
  {
   "cell_type": "code",
   "execution_count": 5,
   "metadata": {
    "collapsed": true
   },
   "outputs": [],
   "source": [
    "data_fm = pd.DataFrame({'polarity_class':polarity_class,'review':reviews,'spamity_class':spamity_class})\n",
    "\n",
    "data_fm.loc[data_fm['spamity_class']=='d','spamity_class']=0\n",
    "data_fm.loc[data_fm['spamity_class']=='t','spamity_class']=1"
   ]
  },
  {
   "cell_type": "markdown",
   "metadata": {},
   "source": [
    "** Splitting the dataset to training and testing (0.7 and 0.3)**"
   ]
  },
  {
   "cell_type": "code",
   "execution_count": 6,
   "metadata": {
    "collapsed": false
   },
   "outputs": [],
   "source": [
    "data_x = data_fm['review']\n",
    "\n",
    "data_y = np.asarray(data_fm['spamity_class'],dtype=int)\n",
    "\n",
    "X_train, X_test, y_train, y_test = cross_validation.train_test_split(data_x, data_y, test_size=0.3)\n",
    "\n",
    "\n"
   ]
  },
  {
   "cell_type": "markdown",
   "metadata": {},
   "source": [
    "** Using CountVectorizer() method to extract features from the text reviews and convert it to numeric data, which can be used to train the classifier **"
   ]
  },
  {
   "cell_type": "markdown",
   "metadata": {},
   "source": [
    "*Using fit_transform() for X_train and only using transform() for X_test*"
   ]
  },
  {
   "cell_type": "code",
   "execution_count": 7,
   "metadata": {
    "collapsed": true
   },
   "outputs": [],
   "source": [
    "cv =  CountVectorizer()\n",
    "\n",
    "X_traincv = cv.fit_transform(X_train)\n",
    "X_testcv = cv.transform(X_test)"
   ]
  },
  {
   "cell_type": "markdown",
   "metadata": {},
   "source": [
    "**Using Naive Bayes Multinomial method as the classifier and training the data**"
   ]
  },
  {
   "cell_type": "code",
   "execution_count": 8,
   "metadata": {
    "collapsed": false
   },
   "outputs": [
    {
     "data": {
      "text/plain": [
       "MultinomialNB(alpha=1.0, class_prior=None, fit_prior=True)"
      ]
     },
     "execution_count": 8,
     "metadata": {},
     "output_type": "execute_result"
    }
   ],
   "source": [
    "nbayes = MultinomialNB()\n",
    "\n",
    "nbayes.fit(X_traincv, y_train)"
   ]
  },
  {
   "cell_type": "markdown",
   "metadata": {},
   "source": [
    "**Predicting the fake or deceptive reviews**\n"
   ]
  },
  {
   "cell_type": "markdown",
   "metadata": {},
   "source": [
    "*using X_testcv : which is vectorized such that the dimensions are matched*"
   ]
  },
  {
   "cell_type": "code",
   "execution_count": 9,
   "metadata": {
    "collapsed": true
   },
   "outputs": [],
   "source": [
    "y_predictions = nbayes.predict(X_testcv)"
   ]
  },
  {
   "cell_type": "markdown",
   "metadata": {},
   "source": [
    "** Printing out fake or deceptive reviews **"
   ]
  },
  {
   "cell_type": "code",
   "execution_count": 10,
   "metadata": {
    "collapsed": false
   },
   "outputs": [
    {
     "data": {
      "text/html": [
       "<div>\n",
       "<table border=\"1\" class=\"dataframe\">\n",
       "  <thead>\n",
       "    <tr style=\"text-align: right;\">\n",
       "      <th></th>\n",
       "      <th>Review</th>\n",
       "      <th>True(1)/Deceptive(0)</th>\n",
       "    </tr>\n",
       "  </thead>\n",
       "  <tbody>\n",
       "    <tr>\n",
       "      <th>0</th>\n",
       "      <td>My family chose to stay at the Chicago Hilton ...</td>\n",
       "      <td>Deceptive</td>\n",
       "    </tr>\n",
       "    <tr>\n",
       "      <th>1</th>\n",
       "      <td>The Affinia Chicago is a wonderful place to st...</td>\n",
       "      <td>Deceptive</td>\n",
       "    </tr>\n",
       "    <tr>\n",
       "      <th>2</th>\n",
       "      <td>I would not recommend this hotel. Although it ...</td>\n",
       "      <td>True</td>\n",
       "    </tr>\n",
       "    <tr>\n",
       "      <th>3</th>\n",
       "      <td>Whilst no doubt being in a good location this ...</td>\n",
       "      <td>Deceptive</td>\n",
       "    </tr>\n",
       "    <tr>\n",
       "      <th>4</th>\n",
       "      <td>My first stay at this hotel and was expecting ...</td>\n",
       "      <td>True</td>\n",
       "    </tr>\n",
       "    <tr>\n",
       "      <th>5</th>\n",
       "      <td>We booked directly with the Intercontinental--...</td>\n",
       "      <td>Deceptive</td>\n",
       "    </tr>\n",
       "    <tr>\n",
       "      <th>6</th>\n",
       "      <td>The Talbott is definitely not worth the price ...</td>\n",
       "      <td>True</td>\n",
       "    </tr>\n",
       "    <tr>\n",
       "      <th>7</th>\n",
       "      <td>Elegant and modernized hotel with great staff....</td>\n",
       "      <td>Deceptive</td>\n",
       "    </tr>\n",
       "    <tr>\n",
       "      <th>8</th>\n",
       "      <td>The Amalfi Hotel Chicago portrayed itself to b...</td>\n",
       "      <td>Deceptive</td>\n",
       "    </tr>\n",
       "    <tr>\n",
       "      <th>9</th>\n",
       "      <td>I stayed here August 20 through 23rd with my s...</td>\n",
       "      <td>Deceptive</td>\n",
       "    </tr>\n",
       "    <tr>\n",
       "      <th>10</th>\n",
       "      <td>After arriving at the Sofitel Chicago Water To...</td>\n",
       "      <td>Deceptive</td>\n",
       "    </tr>\n",
       "    <tr>\n",
       "      <th>11</th>\n",
       "      <td>This is a great place to stay while visiting C...</td>\n",
       "      <td>Deceptive</td>\n",
       "    </tr>\n",
       "    <tr>\n",
       "      <th>12</th>\n",
       "      <td>We connected to Affinia Chicago thorugh a city...</td>\n",
       "      <td>True</td>\n",
       "    </tr>\n",
       "    <tr>\n",
       "      <th>13</th>\n",
       "      <td>We stayed in the Conrad for 4 nights just befo...</td>\n",
       "      <td>True</td>\n",
       "    </tr>\n",
       "    <tr>\n",
       "      <th>14</th>\n",
       "      <td>Hard Rock Hotel boats that they have the best ...</td>\n",
       "      <td>Deceptive</td>\n",
       "    </tr>\n",
       "    <tr>\n",
       "      <th>15</th>\n",
       "      <td>My wife and I stayed here for a weekend in Chi...</td>\n",
       "      <td>True</td>\n",
       "    </tr>\n",
       "    <tr>\n",
       "      <th>16</th>\n",
       "      <td>Dissapointed with my stay at the Fairmont Chic...</td>\n",
       "      <td>Deceptive</td>\n",
       "    </tr>\n",
       "    <tr>\n",
       "      <th>17</th>\n",
       "      <td>The James Hotel in Chicago was a huge let down...</td>\n",
       "      <td>Deceptive</td>\n",
       "    </tr>\n",
       "    <tr>\n",
       "      <th>18</th>\n",
       "      <td>Upon first entering the hotel, we were greeted...</td>\n",
       "      <td>True</td>\n",
       "    </tr>\n",
       "    <tr>\n",
       "      <th>19</th>\n",
       "      <td>Hyatt Regency Hotel: Good ole Downtown, Chicag...</td>\n",
       "      <td>Deceptive</td>\n",
       "    </tr>\n",
       "    <tr>\n",
       "      <th>20</th>\n",
       "      <td>O.M.G best hotel ever ! i've stayed at various...</td>\n",
       "      <td>Deceptive</td>\n",
       "    </tr>\n",
       "    <tr>\n",
       "      <th>21</th>\n",
       "      <td>I stayed at the Swissotel for a business trip ...</td>\n",
       "      <td>True</td>\n",
       "    </tr>\n",
       "    <tr>\n",
       "      <th>22</th>\n",
       "      <td>I stayed in a Deluxe King Suite. No desk to wo...</td>\n",
       "      <td>True</td>\n",
       "    </tr>\n",
       "    <tr>\n",
       "      <th>23</th>\n",
       "      <td>We enjoyed our stay at the Swissotel in downt...</td>\n",
       "      <td>Deceptive</td>\n",
       "    </tr>\n",
       "    <tr>\n",
       "      <th>24</th>\n",
       "      <td>-Review of the Hard Rock Hotel- I find that th...</td>\n",
       "      <td>Deceptive</td>\n",
       "    </tr>\n",
       "    <tr>\n",
       "      <th>25</th>\n",
       "      <td>If you want to stay in a fabulous hotel in the...</td>\n",
       "      <td>True</td>\n",
       "    </tr>\n",
       "    <tr>\n",
       "      <th>26</th>\n",
       "      <td>This hotel was not at all what I expected it w...</td>\n",
       "      <td>Deceptive</td>\n",
       "    </tr>\n",
       "    <tr>\n",
       "      <th>27</th>\n",
       "      <td>Having booked the hotel directly with the hote...</td>\n",
       "      <td>Deceptive</td>\n",
       "    </tr>\n",
       "    <tr>\n",
       "      <th>28</th>\n",
       "      <td>Wow. Here is a place to NEVER hold an event. F...</td>\n",
       "      <td>True</td>\n",
       "    </tr>\n",
       "    <tr>\n",
       "      <th>29</th>\n",
       "      <td>We booked this hotel for the second leg of our...</td>\n",
       "      <td>True</td>\n",
       "    </tr>\n",
       "    <tr>\n",
       "      <th>...</th>\n",
       "      <td>...</td>\n",
       "      <td>...</td>\n",
       "    </tr>\n",
       "    <tr>\n",
       "      <th>450</th>\n",
       "      <td>We planned a fun time for our kids this summer...</td>\n",
       "      <td>Deceptive</td>\n",
       "    </tr>\n",
       "    <tr>\n",
       "      <th>451</th>\n",
       "      <td>An excellent vacation destination. Clean rooms...</td>\n",
       "      <td>Deceptive</td>\n",
       "    </tr>\n",
       "    <tr>\n",
       "      <th>452</th>\n",
       "      <td>We stayed here for one night, and found it a h...</td>\n",
       "      <td>True</td>\n",
       "    </tr>\n",
       "    <tr>\n",
       "      <th>453</th>\n",
       "      <td>I visited Chicago with my two teenage daughter...</td>\n",
       "      <td>Deceptive</td>\n",
       "    </tr>\n",
       "    <tr>\n",
       "      <th>454</th>\n",
       "      <td>having stayed in standard hotels before, when ...</td>\n",
       "      <td>Deceptive</td>\n",
       "    </tr>\n",
       "    <tr>\n",
       "      <th>455</th>\n",
       "      <td>I needed a place to stay for a business confer...</td>\n",
       "      <td>Deceptive</td>\n",
       "    </tr>\n",
       "    <tr>\n",
       "      <th>456</th>\n",
       "      <td>The location was good. Check-in was ok. Asked ...</td>\n",
       "      <td>Deceptive</td>\n",
       "    </tr>\n",
       "    <tr>\n",
       "      <th>457</th>\n",
       "      <td>I stayed here for a weekend while visiting som...</td>\n",
       "      <td>Deceptive</td>\n",
       "    </tr>\n",
       "    <tr>\n",
       "      <th>458</th>\n",
       "      <td>The lines at the check in desk were tremendous...</td>\n",
       "      <td>Deceptive</td>\n",
       "    </tr>\n",
       "    <tr>\n",
       "      <th>459</th>\n",
       "      <td>Stayed in a Junior Suite which was beautiful a...</td>\n",
       "      <td>True</td>\n",
       "    </tr>\n",
       "    <tr>\n",
       "      <th>460</th>\n",
       "      <td>I've stayed at other hotels in Chicago, but th...</td>\n",
       "      <td>Deceptive</td>\n",
       "    </tr>\n",
       "    <tr>\n",
       "      <th>461</th>\n",
       "      <td>I recently stayed at the Swissotel Chicago wit...</td>\n",
       "      <td>Deceptive</td>\n",
       "    </tr>\n",
       "    <tr>\n",
       "      <th>462</th>\n",
       "      <td>After staying at the James Chicago last weeken...</td>\n",
       "      <td>Deceptive</td>\n",
       "    </tr>\n",
       "    <tr>\n",
       "      <th>463</th>\n",
       "      <td>The air-condition has a noisy fan/compressor i...</td>\n",
       "      <td>True</td>\n",
       "    </tr>\n",
       "    <tr>\n",
       "      <th>464</th>\n",
       "      <td>This hotel gives you a lot for a reasonable pr...</td>\n",
       "      <td>Deceptive</td>\n",
       "    </tr>\n",
       "    <tr>\n",
       "      <th>465</th>\n",
       "      <td>I booked two rooms four months in advance at t...</td>\n",
       "      <td>True</td>\n",
       "    </tr>\n",
       "    <tr>\n",
       "      <th>466</th>\n",
       "      <td>I stayed in the Sofitel Chicago Water Tower ho...</td>\n",
       "      <td>Deceptive</td>\n",
       "    </tr>\n",
       "    <tr>\n",
       "      <th>467</th>\n",
       "      <td>I travelled to Illinois from the UK on busines...</td>\n",
       "      <td>True</td>\n",
       "    </tr>\n",
       "    <tr>\n",
       "      <th>468</th>\n",
       "      <td>What was supposed to be a fun weekend getaway ...</td>\n",
       "      <td>Deceptive</td>\n",
       "    </tr>\n",
       "    <tr>\n",
       "      <th>469</th>\n",
       "      <td>The Swissotel Chicago hotel aspires to be a to...</td>\n",
       "      <td>Deceptive</td>\n",
       "    </tr>\n",
       "    <tr>\n",
       "      <th>470</th>\n",
       "      <td>Excellent Hotel ! Rooms and service were great...</td>\n",
       "      <td>True</td>\n",
       "    </tr>\n",
       "    <tr>\n",
       "      <th>471</th>\n",
       "      <td>The reviews we read were a bit mixed, but I th...</td>\n",
       "      <td>True</td>\n",
       "    </tr>\n",
       "    <tr>\n",
       "      <th>472</th>\n",
       "      <td>I read the reviews on Trip Advisor for this pr...</td>\n",
       "      <td>True</td>\n",
       "    </tr>\n",
       "    <tr>\n",
       "      <th>473</th>\n",
       "      <td>This hotel was chosen by my husband's company ...</td>\n",
       "      <td>True</td>\n",
       "    </tr>\n",
       "    <tr>\n",
       "      <th>474</th>\n",
       "      <td>I chose this hotel for a nice weekend getaway ...</td>\n",
       "      <td>True</td>\n",
       "    </tr>\n",
       "    <tr>\n",
       "      <th>475</th>\n",
       "      <td>Stayed at this hotel with 3 friends or 4 night...</td>\n",
       "      <td>True</td>\n",
       "    </tr>\n",
       "    <tr>\n",
       "      <th>476</th>\n",
       "      <td>I live in Chicago and have frequent occasion t...</td>\n",
       "      <td>True</td>\n",
       "    </tr>\n",
       "    <tr>\n",
       "      <th>477</th>\n",
       "      <td>I truly enjoyed my stay at the Omni Chicago Ho...</td>\n",
       "      <td>Deceptive</td>\n",
       "    </tr>\n",
       "    <tr>\n",
       "      <th>478</th>\n",
       "      <td>Hotel Monaco is simply amazing. I travel quite...</td>\n",
       "      <td>Deceptive</td>\n",
       "    </tr>\n",
       "    <tr>\n",
       "      <th>479</th>\n",
       "      <td>We were encouraged to stay at the Affinia as p...</td>\n",
       "      <td>True</td>\n",
       "    </tr>\n",
       "  </tbody>\n",
       "</table>\n",
       "<p>480 rows × 2 columns</p>\n",
       "</div>"
      ],
      "text/plain": [
       "                                                Review True(1)/Deceptive(0)\n",
       "0    My family chose to stay at the Chicago Hilton ...            Deceptive\n",
       "1    The Affinia Chicago is a wonderful place to st...            Deceptive\n",
       "2    I would not recommend this hotel. Although it ...                 True\n",
       "3    Whilst no doubt being in a good location this ...            Deceptive\n",
       "4    My first stay at this hotel and was expecting ...                 True\n",
       "5    We booked directly with the Intercontinental--...            Deceptive\n",
       "6    The Talbott is definitely not worth the price ...                 True\n",
       "7    Elegant and modernized hotel with great staff....            Deceptive\n",
       "8    The Amalfi Hotel Chicago portrayed itself to b...            Deceptive\n",
       "9    I stayed here August 20 through 23rd with my s...            Deceptive\n",
       "10   After arriving at the Sofitel Chicago Water To...            Deceptive\n",
       "11   This is a great place to stay while visiting C...            Deceptive\n",
       "12   We connected to Affinia Chicago thorugh a city...                 True\n",
       "13   We stayed in the Conrad for 4 nights just befo...                 True\n",
       "14   Hard Rock Hotel boats that they have the best ...            Deceptive\n",
       "15   My wife and I stayed here for a weekend in Chi...                 True\n",
       "16   Dissapointed with my stay at the Fairmont Chic...            Deceptive\n",
       "17   The James Hotel in Chicago was a huge let down...            Deceptive\n",
       "18   Upon first entering the hotel, we were greeted...                 True\n",
       "19   Hyatt Regency Hotel: Good ole Downtown, Chicag...            Deceptive\n",
       "20   O.M.G best hotel ever ! i've stayed at various...            Deceptive\n",
       "21   I stayed at the Swissotel for a business trip ...                 True\n",
       "22   I stayed in a Deluxe King Suite. No desk to wo...                 True\n",
       "23    We enjoyed our stay at the Swissotel in downt...            Deceptive\n",
       "24   -Review of the Hard Rock Hotel- I find that th...            Deceptive\n",
       "25   If you want to stay in a fabulous hotel in the...                 True\n",
       "26   This hotel was not at all what I expected it w...            Deceptive\n",
       "27   Having booked the hotel directly with the hote...            Deceptive\n",
       "28   Wow. Here is a place to NEVER hold an event. F...                 True\n",
       "29   We booked this hotel for the second leg of our...                 True\n",
       "..                                                 ...                  ...\n",
       "450  We planned a fun time for our kids this summer...            Deceptive\n",
       "451  An excellent vacation destination. Clean rooms...            Deceptive\n",
       "452  We stayed here for one night, and found it a h...                 True\n",
       "453  I visited Chicago with my two teenage daughter...            Deceptive\n",
       "454  having stayed in standard hotels before, when ...            Deceptive\n",
       "455  I needed a place to stay for a business confer...            Deceptive\n",
       "456  The location was good. Check-in was ok. Asked ...            Deceptive\n",
       "457  I stayed here for a weekend while visiting som...            Deceptive\n",
       "458  The lines at the check in desk were tremendous...            Deceptive\n",
       "459  Stayed in a Junior Suite which was beautiful a...                 True\n",
       "460  I've stayed at other hotels in Chicago, but th...            Deceptive\n",
       "461  I recently stayed at the Swissotel Chicago wit...            Deceptive\n",
       "462  After staying at the James Chicago last weeken...            Deceptive\n",
       "463  The air-condition has a noisy fan/compressor i...                 True\n",
       "464  This hotel gives you a lot for a reasonable pr...            Deceptive\n",
       "465  I booked two rooms four months in advance at t...                 True\n",
       "466  I stayed in the Sofitel Chicago Water Tower ho...            Deceptive\n",
       "467  I travelled to Illinois from the UK on busines...                 True\n",
       "468  What was supposed to be a fun weekend getaway ...            Deceptive\n",
       "469  The Swissotel Chicago hotel aspires to be a to...            Deceptive\n",
       "470  Excellent Hotel ! Rooms and service were great...                 True\n",
       "471  The reviews we read were a bit mixed, but I th...                 True\n",
       "472  I read the reviews on Trip Advisor for this pr...                 True\n",
       "473  This hotel was chosen by my husband's company ...                 True\n",
       "474  I chose this hotel for a nice weekend getaway ...                 True\n",
       "475  Stayed at this hotel with 3 friends or 4 night...                 True\n",
       "476  I live in Chicago and have frequent occasion t...                 True\n",
       "477  I truly enjoyed my stay at the Omni Chicago Ho...            Deceptive\n",
       "478  Hotel Monaco is simply amazing. I travel quite...            Deceptive\n",
       "479  We were encouraged to stay at the Affinia as p...                 True\n",
       "\n",
       "[480 rows x 2 columns]"
      ]
     },
     "execution_count": 10,
     "metadata": {},
     "output_type": "execute_result"
    }
   ],
   "source": [
    "y_result = list(y_predictions)\n",
    "yp=[\"True\" if a==1 else \"Deceptive\" for a in y_result]\n",
    "X_testlist = list(X_test)\n",
    "output_fm = pd.DataFrame({'Review':X_testlist ,'True(1)/Deceptive(0)':yp})\n",
    "output_fm"
   ]
  },
  {
   "cell_type": "markdown",
   "metadata": {},
   "source": [
    "** Printing out the Accuracy, Precision Score, Recall Score, F1 Score **"
   ]
  },
  {
   "cell_type": "code",
   "execution_count": 11,
   "metadata": {
    "collapsed": false
   },
   "outputs": [
    {
     "name": "stdout",
     "output_type": "stream",
     "text": [
      "Accuracy % : 86.875\n",
      "Precision Score:  0.893805309735\n",
      "Recall Score:  0.838174273859\n",
      "F1 Score:  0.865096359743\n"
     ]
    },
    {
     "name": "stderr",
     "output_type": "stream",
     "text": [
      "C:\\Program Files\\Anaconda3\\lib\\site-packages\\sklearn\\metrics\\classification.py:976: DeprecationWarning: From version 0.18, binary input will not be handled specially when using averaged precision/recall/F-score. Please use average='binary' to report only the positive class performance.\n",
      "  'positive class performance.', DeprecationWarning)\n",
      "C:\\Program Files\\Anaconda3\\lib\\site-packages\\sklearn\\metrics\\classification.py:976: DeprecationWarning: From version 0.18, binary input will not be handled specially when using averaged precision/recall/F-score. Please use average='binary' to report only the positive class performance.\n",
      "  'positive class performance.', DeprecationWarning)\n",
      "C:\\Program Files\\Anaconda3\\lib\\site-packages\\sklearn\\metrics\\classification.py:976: DeprecationWarning: From version 0.18, binary input will not be handled specially when using averaged precision/recall/F-score. Please use average='binary' to report only the positive class performance.\n",
      "  'positive class performance.', DeprecationWarning)\n"
     ]
    }
   ],
   "source": [
    "print(\"Accuracy % :\",metrics.accuracy_score(y_test, y_predictions)*100)\n",
    "print(\"Precision Score: \", precision_score(y_test, y_predictions, average='micro'))\n",
    "print(\"Recall Score: \",recall_score(y_test, y_predictions, average='micro') )\n",
    "print(\"F1 Score: \",f1_score(y_test, y_predictions, average='micro') )"
   ]
  }
 ],
 "metadata": {
  "anaconda-cloud": {},
  "kernelspec": {
   "display_name": "Python [default]",
   "language": "python",
   "name": "python3"
  },
  "language_info": {
   "codemirror_mode": {
    "name": "ipython",
    "version": 3
   },
   "file_extension": ".py",
   "mimetype": "text/x-python",
   "name": "python",
   "nbconvert_exporter": "python",
   "pygments_lexer": "ipython3",
   "version": "3.5.2"
  }
 },
 "nbformat": 4,
 "nbformat_minor": 1
}
